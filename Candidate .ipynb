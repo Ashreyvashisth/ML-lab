{
  "nbformat": 4,
  "nbformat_minor": 0,
  "metadata": {
    "colab": {
      "provenance": [],
      "authorship_tag": "ABX9TyOYQbmT/qc/7jBm4Jj/1Gkv",
      "include_colab_link": true
    },
    "kernelspec": {
      "name": "python3",
      "display_name": "Python 3"
    },
    "language_info": {
      "name": "python"
    }
  },
  "cells": [
    {
      "cell_type": "markdown",
      "metadata": {
        "id": "view-in-github",
        "colab_type": "text"
      },
      "source": [
        "<a href=\"https://colab.research.google.com/github/Ashreyvashisth/ML-lab/blob/main/Candidate%20.ipynb\" target=\"_parent\"><img src=\"https://colab.research.google.com/assets/colab-badge.svg\" alt=\"Open In Colab\"/></a>"
      ]
    },
    {
      "cell_type": "code",
      "execution_count": 1,
      "metadata": {
        "id": "WDjwuWIQhyzu"
      },
      "outputs": [],
      "source": [
        "import csv"
      ]
    },
    {
      "cell_type": "code",
      "source": [
        "gen=[]\n",
        "spec=[]\n",
        "pos=[]\n",
        "neg=[]\n",
        "file=r\"\"\n",
        "fd=csv.reader(open(file))\n",
        "display(file)\n",
        "print(\"The given training set\")\n",
        "for line in fd:\n",
        "  if line[-1]=='yes'\n",
        "    pos.append(line)\n",
        "  if line[-1]=='no'\n",
        "    neg.append(line)\n",
        "print(\"---------positive eg----------\")\n",
        "for line in pos:\n",
        "  print(line)\n",
        "print(\"---------negative eg----------\")\n",
        "for line in neg:\n",
        "  print(line)\n",
        "row=len[pos]\n",
        "col=len[pos[0]]\n",
        "for j in range (col -1):\n",
        "  spec.append(data[0][j])\n",
        "for i in range (row):\n",
        "  for j in range (col -1):\n",
        "    if spec[j]!=pos[i][j]\n",
        "      spec[j]='?'\n",
        "      print(\"------------hypothesis------\")\n",
        "      print(spec)\n",
        "row=len[neg]\n",
        "col=len[neg[0]]\n",
        "for i in range (row):\n",
        "  for j in range (col -1):\n",
        "    gen=['?','?','?','?','?','?']\n",
        "    if spec[j]!=neg[i][j]:\n",
        "    gen[j]=spec[j]\n",
        "    print(gen)"
      ],
      "metadata": {
        "id": "-Q_fnj24io-d"
      },
      "execution_count": null,
      "outputs": []
    }
  ]
}
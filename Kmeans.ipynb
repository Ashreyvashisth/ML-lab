{
  "nbformat": 4,
  "nbformat_minor": 0,
  "metadata": {
    "colab": {
      "provenance": [],
      "authorship_tag": "ABX9TyOxVEAoNVvXu2boGPcScRZ2",
      "include_colab_link": true
    },
    "kernelspec": {
      "name": "python3",
      "display_name": "Python 3"
    },
    "language_info": {
      "name": "python"
    }
  },
  "cells": [
    {
      "cell_type": "markdown",
      "metadata": {
        "id": "view-in-github",
        "colab_type": "text"
      },
      "source": [
        "<a href=\"https://colab.research.google.com/github/Ashreyvashisth/ML-lab/blob/main/Kmeans.ipynb\" target=\"_parent\"><img src=\"https://colab.research.google.com/assets/colab-badge.svg\" alt=\"Open In Colab\"/></a>"
      ]
    },
    {
      "cell_type": "code",
      "execution_count": 1,
      "metadata": {
        "id": "Bt5cYbe4x_uc"
      },
      "outputs": [],
      "source": [
        "import csv\n",
        "import pandas as pd\n",
        "import numpy as np\n",
        "import matplotlib.pyplot as plt"
      ]
    },
    {
      "cell_type": "code",
      "source": [
        "def main():\n",
        "file=r\"\"\n",
        "datax=pd.read_csv(file)\n",
        "display(datax)\n",
        "fd=csv_reader(open(file))\n",
        "data[ ]\n",
        "for line in fd:\n",
        "  data.append(line)\n",
        "  kmeans(data[1: ])\n",
        "\n",
        "def kmeans(datax)\n",
        "  w1,h1=input(\"Enter the light weight boxing centroid\")\n",
        "  w1=int(w1)\n",
        "  h1=int(h1)\n",
        "  w2,h2=input(\"Enter the middle weight boxing centroid\")\n",
        "  w2=int(w2)\n",
        "  h2=int(h2)\n",
        "  w3,h3=input(\"Enter the heavy weight boxng centroid\")\n",
        "  w3=int(w3)\n",
        "  h3=int(h3)\n",
        "  for line in data:\n",
        "    x=int(line[0])\n",
        "    y=int(line[1])\n",
        "    d1=((x-w1)**2+(y-h1)**2)\n",
        "    d2=((x-w2)**2+(y-h2)**2)\n",
        "    d3=((x-w3)**2+(y-h3)**2)\n",
        "  if d1<d2 & d1<d3\n",
        "  print(\"boxers of weight\",x\"&height\",y,\"belongs to cluster 1\")\n",
        "  w1=(w1+x)/2\n",
        "  h1=(h1+y)/2\n",
        "  plt.scatter(x,y,c='red')\n",
        "  elif d2<d1 & d2<d3\n",
        "  print(\"boxers of weight\",x\"&height\",y,\"belongs to cluster 2\")\n",
        "  w2=(w2+x)/2\n",
        "  h2=(h2+y)/2\n",
        "  plt.scatter(x,y,c='yellow')\n",
        "  else \n",
        "  print(\"boxers of weight\",x\"height\",y,\"belongs to cluster 3\")\n",
        "  w3=(w3+x)/2\n",
        "  h3=(h3+y)/2\n",
        "  plt.scatter(x,y,c='blue')\n",
        "  plt.xlabel('weight')\n",
        "  plt.ylabel('height')\n",
        "  plt.legend()\n",
        "  plt.show()\n",
        "\n",
        "main()"
      ],
      "metadata": {
        "id": "2c2t2KLhyNJP"
      },
      "execution_count": null,
      "outputs": []
    }
  ]
}
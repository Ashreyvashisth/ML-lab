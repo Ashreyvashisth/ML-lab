{
  "nbformat": 4,
  "nbformat_minor": 0,
  "metadata": {
    "colab": {
      "provenance": [],
      "authorship_tag": "ABX9TyNHfWo/u7ikOuIHbRUbYeQp",
      "include_colab_link": true
    },
    "kernelspec": {
      "name": "python3",
      "display_name": "Python 3"
    },
    "language_info": {
      "name": "python"
    }
  },
  "cells": [
    {
      "cell_type": "markdown",
      "metadata": {
        "id": "view-in-github",
        "colab_type": "text"
      },
      "source": [
        "<a href=\"https://colab.research.google.com/github/Ashreyvashisth/ML-lab/blob/main/Untitled8.ipynb\" target=\"_parent\"><img src=\"https://colab.research.google.com/assets/colab-badge.svg\" alt=\"Open In Colab\"/></a>"
      ]
    },
    {
      "cell_type": "code",
      "execution_count": 3,
      "metadata": {
        "id": "wkIb4bAmYvl3"
      },
      "outputs": [],
      "source": [
        "import pandas as pd\n",
        "from sklearn import tree\n",
        "from sklearn.tree import DecisionTreeClassifier"
      ]
    },
    {
      "cell_type": "code",
      "source": [
        "file=r\"\"\n",
        "data=pd.read_csv(file)\n",
        "\n",
        "d={'Sunny':0,'Overcast':1,'Rainy':2}\n",
        "data[\"Outlook\"]=data[\"Outlook\"].map(d)\n",
        "\n",
        "d={'hot':0,'Mild':1,'Cold':2}\n",
        "data[\"Temperature\"]=data[\"Temperature\"].map(d)\n",
        "\n",
        "d={'High':0,'Normal':1}\n",
        "data[\"Humidity\"]=data[\"Humidity\"].map(d)\n",
        "\n",
        "features=['Outlook','Temperature','Humidity','Windy']\n",
        "\n",
        "x=data[\"features\"]\n",
        "y=data[\"PlayTennis\"]\n",
        "\n",
        "dtree=DecisionTreeClassifier()\n",
        "dtree=dtree.fit(x,y)\n",
        "tree.plot_tree(dtree,features_names=features)"
      ],
      "metadata": {
        "id": "H0ZvDnUufBN6"
      },
      "execution_count": null,
      "outputs": []
    },
    {
      "cell_type": "code",
      "source": [],
      "metadata": {
        "id": "0Be_dYH2hW3S"
      },
      "execution_count": null,
      "outputs": []
    },
    {
      "cell_type": "markdown",
      "source": [
        "# New Section"
      ],
      "metadata": {
        "id": "x1yJbVkYhYAp"
      }
    },
    {
      "cell_type": "markdown",
      "source": [
        "# New Section"
      ],
      "metadata": {
        "id": "IgJRyoudhYvg"
      }
    }
  ]
}
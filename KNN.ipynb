{
  "nbformat": 4,
  "nbformat_minor": 0,
  "metadata": {
    "colab": {
      "provenance": [],
      "authorship_tag": "ABX9TyOZZetmIRJZAAnuZpyWw9ZS",
      "include_colab_link": true
    },
    "kernelspec": {
      "name": "python3",
      "display_name": "Python 3"
    },
    "language_info": {
      "name": "python"
    }
  },
  "cells": [
    {
      "cell_type": "markdown",
      "metadata": {
        "id": "view-in-github",
        "colab_type": "text"
      },
      "source": [
        "<a href=\"https://colab.research.google.com/github/Ashreyvashisth/ML-lab/blob/main/KNN.ipynb\" target=\"_parent\"><img src=\"https://colab.research.google.com/assets/colab-badge.svg\" alt=\"Open In Colab\"/></a>"
      ]
    },
    {
      "cell_type": "code",
      "execution_count": 2,
      "metadata": {
        "id": "XcKY7u6NnZtc"
      },
      "outputs": [],
      "source": [
        "import csv\n",
        "import numpy as np\n",
        "import pandas as pd\n",
        "import matplotlib.pyplot as plt"
      ]
    },
    {
      "cell_type": "code",
      "source": [
        "def KNN(datax)\n",
        "  print(\"Enter the the weight height and chest size \")\n",
        "  abc=input.split()\n",
        "  a=int(a)\n",
        "  b=int(b)\n",
        "  c=int(c)\n",
        "  for line in datax:\n",
        "    x=int(line(0))\n",
        "    y=int(line(1))\n",
        "    z=int(line(2))\n",
        "    dist=np.sqrt((x-a)**2+(y-b)**2+(z-c)**2)\n",
        "    line.append(dist)\n",
        "  print(\"How many nearest to k\")\n",
        "  k=int(input())\n",
        "  datax.sort(key=lambda i:i[4])\n",
        "  scount=0\n",
        "  mcount=0\n",
        "  lcount=0\n",
        "  xlcount=0\n",
        "  for i in range(k):\n",
        "    if data[i][3]=='s'\n",
        "      scount+=1\n",
        "    if data[i][3]=='m'\n",
        "      mcount+=1\n",
        "    if data[i][3]=='l'\n",
        "      lcount+=1\n",
        "    if data[i][3]=='xl'\n",
        "      xlcount+=1\n",
        "    if(scount>mcount & scount>lcount & scount>xlcount)\n",
        "     print(\"Go for Small size\")\n",
        "    if(mcount>scount & mcount>lcount & mcount>xlcount)\n",
        "      print(\"Go for Medium size\")\n",
        "    if(lcount>scount & lcount>lcount & lcount>xlcount)\n",
        "      print(\"Go for large size\")\n",
        "    else\n",
        "      print(\"go for xl sie\")\n",
        "def main()\n",
        "  file=r\"\"\n",
        "  data=pd.read_csv(file)\n",
        "  display(data)\n",
        "  fd=csv_reader(open(file))\n",
        "  datax=[]\n",
        "  for line in fd:\n",
        "    datax.append(line)\n",
        "  KNN(datax[1:])\n",
        "main()\n"
      ],
      "metadata": {
        "id": "Wa6_bgeQnmjd"
      },
      "execution_count": null,
      "outputs": []
    },
    {
      "cell_type": "code",
      "source": [],
      "metadata": {
        "id": "dy-ud6DnxvAM"
      },
      "execution_count": null,
      "outputs": []
    }
  ]
}